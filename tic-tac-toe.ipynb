{
 "cells": [
  {
   "cell_type": "code",
   "execution_count": null,
   "id": "cc78cbb9-cb58-417c-9732-4339a1268281",
   "metadata": {},
   "outputs": [
    {
     "ename": "",
     "evalue": "",
     "output_type": "error",
     "traceback": [
      "\u001b[1;31mUnable to start Kernel 'Python 3.10.2' due to connection timeout. \n",
      "View Jupyter <a href='command:jupyter.viewOutput'>log</a> for further details."
     ]
    }
   ],
   "source": [
    "board_str = \"\"\"\n",
    "    A   B   C\n",
    "  -------------\n",
    "1 | {A1} | {B1} | {C1} |\n",
    "  |---|---|---|\n",
    "2 | {A2} | {B2} | {C2} |\n",
    "  |---|---|---|\n",
    "3 | {A3} | {B3} | {C3} |\n",
    "  -------------\n",
    "\"\"\""
   ]
  },
  {
   "cell_type": "code",
   "execution_count": null,
   "id": "18295d14-591f-445e-be0c-d177b270a841",
   "metadata": {},
   "outputs": [],
   "source": [
    "class TicTacToe():\n",
    "    current_player = 'X'\n",
    "    moves = {\n",
    "        'A1': ' ', 'A2': ' ', 'A3': ' ',\n",
    "        'B1': ' ', 'B2': ' ', 'B3': ' ',\n",
    "        'C1': ' ', 'C2': ' ', 'C3': ' ',\n",
    "    }\n",
    "    \n",
    "    def referee(self):\n",
    "        if self.current_player == 'X':\n",
    "            self.current_player = 'O'\n",
    "        else:\n",
    "            self.current_player = 'X'\n",
    "            \n",
    "        return self.current_player\n",
    "\n",
    "    def draw_board(self):\n",
    "        board = board_str.format(**self.moves)\n",
    "        print(board)\n",
    " \n",
    "    def player_turn(self):\n",
    "        for X in range(9):\n",
    "            print(\"It is {} turn\".format(self.current_player))\n",
    "            X=input('choose position: ')\n",
    "            self.moves[X] = self.current_player\n",
    "            self.draw_board()\n",
    "            self.referee()\n",
    "            \n",
    "       \n",
    "    \n",
    "    "
   ]
  },
  {
   "cell_type": "code",
   "execution_count": null,
   "id": "5ece1378-d6a6-40ee-870c-588d6d1e6571",
   "metadata": {},
   "outputs": [
    {
     "name": "stdout",
     "output_type": "stream",
     "text": [
      "\n",
      "    A   B   C\n",
      "  -------------\n",
      "1 |   |   |   |\n",
      "  |---|---|---|\n",
      "2 |   |   |   |\n",
      "  |---|---|---|\n",
      "3 |   |   |   |\n",
      "  -------------\n",
      "\n",
      "It is X turn\n"
     ]
    },
    {
     "name": "stdout",
     "output_type": "stream",
     "text": [
      "choose position:  A3\n"
     ]
    },
    {
     "name": "stdout",
     "output_type": "stream",
     "text": [
      "\n",
      "    A   B   C\n",
      "  -------------\n",
      "1 |   |   |   |\n",
      "  |---|---|---|\n",
      "2 |   |   |   |\n",
      "  |---|---|---|\n",
      "3 | X |   |   |\n",
      "  -------------\n",
      "\n",
      "It is O turn\n"
     ]
    },
    {
     "name": "stdout",
     "output_type": "stream",
     "text": [
      "choose position:  C1\n"
     ]
    },
    {
     "name": "stdout",
     "output_type": "stream",
     "text": [
      "\n",
      "    A   B   C\n",
      "  -------------\n",
      "1 |   |   | O |\n",
      "  |---|---|---|\n",
      "2 |   |   |   |\n",
      "  |---|---|---|\n",
      "3 | X |   |   |\n",
      "  -------------\n",
      "\n",
      "It is X turn\n"
     ]
    },
    {
     "name": "stdout",
     "output_type": "stream",
     "text": [
      "choose position:  A1\n"
     ]
    },
    {
     "name": "stdout",
     "output_type": "stream",
     "text": [
      "\n",
      "    A   B   C\n",
      "  -------------\n",
      "1 | X |   | O |\n",
      "  |---|---|---|\n",
      "2 |   |   |   |\n",
      "  |---|---|---|\n",
      "3 | X |   |   |\n",
      "  -------------\n",
      "\n",
      "It is O turn\n"
     ]
    },
    {
     "name": "stdout",
     "output_type": "stream",
     "text": [
      "choose position:  A2\n"
     ]
    },
    {
     "name": "stdout",
     "output_type": "stream",
     "text": [
      "\n",
      "    A   B   C\n",
      "  -------------\n",
      "1 | X |   | O |\n",
      "  |---|---|---|\n",
      "2 | O |   |   |\n",
      "  |---|---|---|\n",
      "3 | X |   |   |\n",
      "  -------------\n",
      "\n",
      "It is X turn\n"
     ]
    },
    {
     "name": "stdout",
     "output_type": "stream",
     "text": [
      "choose position:  C3\n"
     ]
    },
    {
     "name": "stdout",
     "output_type": "stream",
     "text": [
      "\n",
      "    A   B   C\n",
      "  -------------\n",
      "1 | X |   | O |\n",
      "  |---|---|---|\n",
      "2 | O |   |   |\n",
      "  |---|---|---|\n",
      "3 | X |   | X |\n",
      "  -------------\n",
      "\n",
      "It is O turn\n"
     ]
    },
    {
     "name": "stdout",
     "output_type": "stream",
     "text": [
      "choose position:  B2\n"
     ]
    },
    {
     "name": "stdout",
     "output_type": "stream",
     "text": [
      "\n",
      "    A   B   C\n",
      "  -------------\n",
      "1 | X |   | O |\n",
      "  |---|---|---|\n",
      "2 | O | O |   |\n",
      "  |---|---|---|\n",
      "3 | X |   | X |\n",
      "  -------------\n",
      "\n",
      "It is X turn\n"
     ]
    },
    {
     "name": "stdout",
     "output_type": "stream",
     "text": [
      "choose position:  B3\n"
     ]
    },
    {
     "name": "stdout",
     "output_type": "stream",
     "text": [
      "\n",
      "    A   B   C\n",
      "  -------------\n",
      "1 | X |   | O |\n",
      "  |---|---|---|\n",
      "2 | O | O |   |\n",
      "  |---|---|---|\n",
      "3 | X | X | X |\n",
      "  -------------\n",
      "\n",
      "It is O turn\n"
     ]
    }
   ],
   "source": [
    "game = TicTacToe()\n",
    "game.draw_board()\n",
    "game.player_turn()"
   ]
  }
 ],
 "metadata": {
  "kernelspec": {
   "display_name": "Python 3",
   "language": "python",
   "name": "python3"
  },
  "language_info": {
   "codemirror_mode": {
    "name": "ipython",
    "version": 3
   },
   "file_extension": ".py",
   "mimetype": "text/x-python",
   "name": "python",
   "nbconvert_exporter": "python",
   "pygments_lexer": "ipython3",
   "version": "3.10.2"
  }
 },
 "nbformat": 4,
 "nbformat_minor": 5
}
